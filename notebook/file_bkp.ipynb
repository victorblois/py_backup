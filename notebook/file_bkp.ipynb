{
 "cells": [
  {
   "cell_type": "code",
   "execution_count": 6,
   "metadata": {},
   "outputs": [],
   "source": [
    "import os\n",
    "from zipfile import ZipFile\n",
    "from shutil import make_archive\n",
    "import datetime"
   ]
  },
  {
   "cell_type": "code",
   "execution_count": 7,
   "metadata": {},
   "outputs": [],
   "source": [
    "#!pip install ConfigParser"
   ]
  },
  {
   "cell_type": "code",
   "execution_count": 8,
   "metadata": {},
   "outputs": [
    {
     "name": "stdout",
     "output_type": "stream",
     "text": [
      "C:\\MyGit\\py_backup\\notebook\n"
     ]
    },
    {
     "data": {
      "text/plain": [
       "['config_bkp.ini']"
      ]
     },
     "execution_count": 8,
     "metadata": {},
     "output_type": "execute_result"
    }
   ],
   "source": [
    "import configparser\n",
    "\n",
    "dt = datetime.datetime.now()\n",
    "\n",
    "current_dir = os.path.abspath(os.path.join(os.getcwd()))\n",
    "print(current_dir)\n",
    "cfg = configparser.ConfigParser()\n",
    "cfg.read('config_bkp.ini')"
   ]
  },
  {
   "cell_type": "code",
   "execution_count": 9,
   "metadata": {},
   "outputs": [
    {
     "name": "stdout",
     "output_type": "stream",
     "text": [
      "BATERIAS\n",
      "F:\\Sistema\n",
      "C:\\Users\\vlmbl\\Dropbox\\Baterias\n",
      "F:\\Sistema\\BATERIAS.FDB\n"
     ]
    }
   ],
   "source": [
    "file1 = cfg.get('section1','file1')\n",
    "file2 = cfg.get('section1','file2')\n",
    "file3 = cfg.get('section1','file3')\n",
    "\n",
    "path_origin= cfg.get('section1','path_origin')\n",
    "path_destiny= cfg.get('section1','path_destiny')\n",
    "\n",
    "print(file1)\n",
    "print(path_origin)\n",
    "print(path_destiny)\n",
    "print(path_origin + '\\\\' + file1 + '.FDB')"
   ]
  },
  {
   "cell_type": "code",
   "execution_count": null,
   "metadata": {},
   "outputs": [
    {
     "name": "stdout",
     "output_type": "stream",
     "text": [
      "Caso deseje fazer backup pressione S para continuar:s\n",
      "Iniciando backup...\n",
      "Backup: BATERIAS_4.zip com sucesso!\n",
      "Backup: CEP.zip com sucesso!\n",
      "Backup: NCMS.zip com sucesso!\n"
     ]
    }
   ],
   "source": [
    "x = input(\"Caso deseje fazer backup pressione S para continuar:\")\n",
    "if x == 'S' or x == 's':\n",
    "    print('Iniciando backup...')\n",
    "    make_archive(path_destiny + '\\\\' + file1 + '_' + str(dt.day), 'zip', path_origin, file1 + '.FDB')\n",
    "    print('Backup: ' + file1 + '_' + str(dt.day) + '.zip' + ' com sucesso!')\n",
    "    make_archive(path_destiny + '\\\\' + file2, 'zip', path_origin, file2 + '.FDB')\n",
    "    print('Backup: ' + file2 + '.zip' + ' com sucesso!')\n",
    "    make_archive(path_destiny + '\\\\' + file3, 'zip', path_origin, file3 + '.FDB')\n",
    "    print('Backup: ' + file3 + '.zip' + ' com sucesso!')\n",
    "\n",
    "    input(\"Pressione qualquer tecla para finalizar\")\n",
    "\n",
    "    print('Backup feito')\n",
    "\n",
    "else:\n",
    "    input(\"Backup não realizado. Pressione qualquer tecla para sair\")"
   ]
  },
  {
   "cell_type": "code",
   "execution_count": null,
   "metadata": {},
   "outputs": [],
   "source": []
  }
 ],
 "metadata": {
  "kernelspec": {
   "display_name": "Python 3",
   "language": "python",
   "name": "python3"
  },
  "language_info": {
   "codemirror_mode": {
    "name": "ipython",
    "version": 3
   },
   "file_extension": ".py",
   "mimetype": "text/x-python",
   "name": "python",
   "nbconvert_exporter": "python",
   "pygments_lexer": "ipython3",
   "version": "3.7.6"
  }
 },
 "nbformat": 4,
 "nbformat_minor": 4
}
